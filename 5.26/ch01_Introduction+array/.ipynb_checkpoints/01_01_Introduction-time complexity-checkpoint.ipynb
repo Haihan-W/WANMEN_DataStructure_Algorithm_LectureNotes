{
 "cells": [
  {
   "cell_type": "markdown",
   "metadata": {
    "collapsed": true
   },
   "source": [
    "# Introduction\n",
    "\n",
    "### 课程安排\n",
    "<img src=\"../images/ch01/syllabus.png\" width=\"560\"/>"
   ]
  },
  {
   "cell_type": "markdown",
   "metadata": {},
   "source": [
    "### 实例一：Find Missing Number\n",
    "You are given a list of n-1 integers and these integers are in the range of 1 to n. There are no duplicates in list. One of the integers is missing in the list. Write an efficient code to find the missing integer.\n",
    "\n",
    "### 实例二：Tile Problem\n",
    "Given a 𝑛×2 board and tiles of size 1×2, count the number of ways to tile the given board using the 1×2 tiles. A tile can either be placed horizontally i.e., as a 1×2 tile or vertically i.e., as 2×1 tile.\n",
    "\n",
    "### 实例三：Find Top k Most Searched Keywords from Amazon\n",
    "\n",
    "Amazon! How many records?\n",
    "\n",
    "Boss wants a quick answer\n",
    "\n",
    "How about in real time? Like every 5 mins"
   ]
  },
  {
   "cell_type": "code",
   "execution_count": null,
   "metadata": {
    "collapsed": true
   },
   "outputs": [],
   "source": []
  },
  {
   "cell_type": "markdown",
   "metadata": {},
   "source": [
    "### 算法分析\n",
    "\n",
    "#### 运行时间 （时间复杂度）\n",
    "- The running time typically grows with the input size\n",
    "- Best Case: Lower bound on cost\n",
    "    - Determine by “easiest” input\n",
    "    - Provides a goal for all inputs\n",
    "- Worse Case: Upper bound on cost\n",
    "    - Determine by “most difficult” input\n",
    "    - Provides a guarantee for all inputs\n",
    "- Average case: Expected cost for random input\n",
    "    - Need a model for “random” input\n",
    "    - Provides a way to predict performance\n",
    "- Average case time is often difficult to determine\n",
    "- We focus on worst case running time-- O(n)\n",
    "- 多项式: 取最高次-- e.g. 3*N^2+5N, O(N^2)\n",
    "- For loop:\n",
    "    - e.g. For i in range(nums):\n",
    "                s=s+i \n",
    "           then if nums is linear related to n, time complexity is O(n)\n",
    "    - e.g. 嵌套:\n",
    "            for i:\n",
    "                for j:\n",
    "                \n",
    "           then O(n^2)\n",
    "    - e.g. 并列:\n",
    "            for i:\n",
    "            \n",
    "            for j:\n",
    "            \n",
    "            then O(n)+O(n)-> still O(n)\n",
    "- sum(): O(n)\n",
    "- max(): O(n)\n",
    "- 二分法找range(nums) 中的一个数字: e.g. 1-100, then need 7 times (worst case) to find out a random number. (because: 二分法2^7>100), so O(log(n))\n",
    "\n",
    "<img src=\"./images/algorithmmatters.png\" width=\"580\"/>\n",
    "\n"
   ]
  },
  {
   "cell_type": "markdown",
   "metadata": {},
   "source": [
    "##### Utility"
   ]
  },
  {
   "cell_type": "code",
   "execution_count": null,
   "metadata": {
    "collapsed": true
   },
   "outputs": [],
   "source": [
    "import time\n",
    "import matplotlib.pyplot as plt\n",
    "import random\n",
    "import math\n",
    "%matplotlib inline  \n",
    "\n",
    "def random_list(l):\n",
    "    return [[int(1000*random.random()) for i in range(l * n)] for n in range(1, 20)]"
   ]
  },
  {
   "cell_type": "code",
   "execution_count": null,
   "metadata": {
    "collapsed": true
   },
   "outputs": [],
   "source": []
  },
  {
   "cell_type": "markdown",
   "metadata": {},
   "source": [
    "** Large Scale **"
   ]
  },
  {
   "cell_type": "code",
   "execution_count": null,
   "metadata": {
    "collapsed": true
   },
   "outputs": [],
   "source": [
    "from pylab import *\n",
    "\n",
    "n = arange(1,100)\n",
    "f1 = 1\n",
    "f2 = n\n",
    "f3 = n* (log(n))\n",
    "f4 = n**2\n",
    "\n",
    "fig = figure()\n",
    "ax = fig.add_subplot(111)\n",
    "\n",
    "ax.plot(f1)\n",
    "ax.plot(f2)\n",
    "ax.plot(f3)\n",
    "ax.plot(f4)\n",
    "\n",
    "legend([\"1\", \"n\", \"nlgn\", \"n^2\"], loc=2, fontsize=\"small\")\n",
    "\n",
    "title('Algorithm Matters') \n",
    "\n",
    "xlabel('Size of array (n)')\n",
    "ylabel('Number of interations')\n",
    "\n",
    "show()"
   ]
  },
  {
   "cell_type": "markdown",
   "metadata": {},
   "source": [
    "** Small Scale **"
   ]
  },
  {
   "cell_type": "code",
   "execution_count": null,
   "metadata": {
    "collapsed": true
   },
   "outputs": [],
   "source": [
    "from pylab import *\n",
    "\n",
    "n = arange(1,15)\n",
    "f1 = 1\n",
    "f2 = n\n",
    "f3 = n* (log(n))\n",
    "f4 = n**2\n",
    "f5 = n**3\n",
    "f6 = 2**n\n",
    "\n",
    "fig = figure()\n",
    "ax = fig.add_subplot(111)\n",
    "\n",
    "ax.plot(f1)\n",
    "ax.plot(f2)\n",
    "ax.plot(f3)\n",
    "ax.plot(f4)\n",
    "ax.plot(f5)\n",
    "ax.plot(f6)\n",
    "\n",
    "legend([\"1\", \"n\", \"nlgn\", \"n^2\", \"n^3\", \"2^n\"], loc=2, fontsize=\"small\")\n",
    "\n",
    "title('Algorithm Matters') \n",
    "\n",
    "xlabel('Size of array (n)')\n",
    "ylabel('Number of interations')\n",
    "\n",
    "show()"
   ]
  },
  {
   "cell_type": "code",
   "execution_count": null,
   "metadata": {
    "collapsed": true
   },
   "outputs": [],
   "source": []
  },
  {
   "cell_type": "markdown",
   "metadata": {},
   "source": [
    "### $O(1)$  -  (constant)"
   ]
  },
  {
   "cell_type": "code",
   "execution_count": null,
   "metadata": {
    "collapsed": true
   },
   "outputs": [],
   "source": [
    "def square(x):\n",
    "    return x * x\n",
    "\n",
    "square(3)"
   ]
  },
  {
   "cell_type": "code",
   "execution_count": null,
   "metadata": {
    "collapsed": true
   },
   "outputs": [],
   "source": [
    "def first(x):\n",
    "    start = time.time()\n",
    "    r = x[0]\n",
    "    t = time.time() - start\n",
    "    return r, len(x), t\n",
    "\n",
    "def middle(x):\n",
    "    start = time.time()\n",
    "    r = x[len(x)//2]\n",
    "    t = time.time() - start\n",
    "    return r, len(x), t\n",
    "\n",
    "def last(x):\n",
    "    start = time.time()\n",
    "    r = x[-1]\n",
    "    t = time.time() - start\n",
    "    return r, len(x), t"
   ]
  },
  {
   "cell_type": "code",
   "execution_count": null,
   "metadata": {
    "collapsed": true
   },
   "outputs": [],
   "source": [
    "random_lists = random_list(10000)\n",
    "rst = [last(l) for l in random_lists]\n",
    "len(rst)\n",
    "rst"
   ]
  },
  {
   "cell_type": "code",
   "execution_count": null,
   "metadata": {
    "collapsed": true,
    "scrolled": true
   },
   "outputs": [],
   "source": [
    "x = list(zip(*rst))[1]\n",
    "y = list(zip(*rst))[2]\n",
    "\n",
    "plt.plot(x, y)"
   ]
  },
  {
   "cell_type": "markdown",
   "metadata": {},
   "source": [
    "### $O(lgn)$"
   ]
  },
  {
   "cell_type": "code",
   "execution_count": null,
   "metadata": {
    "collapsed": true
   },
   "outputs": [],
   "source": [
    "import bisect\n",
    "def bs(nums, target):\n",
    "    sorted(nums)\n",
    "    start = time.time()\n",
    "    i = bisect.bisect_left(nums, target)\n",
    "    if i != len(nums) and nums[i] == target:\n",
    "        t = time.time() - start\n",
    "        return i, len(nums), t\n",
    "    t = time.time() - start\n",
    "    return -1, len(nums), t"
   ]
  },
  {
   "cell_type": "code",
   "execution_count": null,
   "metadata": {
    "collapsed": true
   },
   "outputs": [],
   "source": [
    "random_lists = random_list(100000)"
   ]
  },
  {
   "cell_type": "code",
   "execution_count": null,
   "metadata": {
    "collapsed": true
   },
   "outputs": [],
   "source": [
    "rst = [bs(l, 100) for l in random_lists]\n",
    "len(rst)\n",
    "rst"
   ]
  },
  {
   "cell_type": "code",
   "execution_count": null,
   "metadata": {
    "collapsed": true
   },
   "outputs": [],
   "source": [
    "x = list(zip(*rst))[1]\n",
    "y = list(zip(*rst))[2]\n",
    "\n",
    "plt.plot(x, y)"
   ]
  },
  {
   "cell_type": "code",
   "execution_count": null,
   "metadata": {
    "collapsed": true
   },
   "outputs": [],
   "source": []
  },
  {
   "cell_type": "markdown",
   "metadata": {},
   "source": [
    "### $O(n)$"
   ]
  },
  {
   "cell_type": "code",
   "execution_count": null,
   "metadata": {
    "collapsed": true
   },
   "outputs": [],
   "source": [
    "def find_max(l):\n",
    "    start = time.time()\n",
    "    \n",
    "    if l == None:\n",
    "        return None\n",
    "    mx = l[0]\n",
    "    for n in l:\n",
    "        if n > mx:\n",
    "            mx = n\n",
    "            \n",
    "    t = time.time() - start\n",
    "    \n",
    "    return mx, len(l), t"
   ]
  },
  {
   "cell_type": "code",
   "execution_count": null,
   "metadata": {
    "collapsed": true
   },
   "outputs": [],
   "source": [
    "random_lists = random_list(20000)\n",
    "rst = [find_max(l) for l in random_lists]\n",
    "len(rst)\n",
    "rst"
   ]
  },
  {
   "cell_type": "code",
   "execution_count": null,
   "metadata": {
    "collapsed": true
   },
   "outputs": [],
   "source": [
    "x = list(zip(*rst))[1]\n",
    "y = list(zip(*rst))[2]\n",
    "\n",
    "plt.plot(x, y)"
   ]
  },
  {
   "cell_type": "markdown",
   "metadata": {},
   "source": [
    "### $O(nlgn)$"
   ]
  },
  {
   "cell_type": "code",
   "execution_count": null,
   "metadata": {
    "collapsed": true
   },
   "outputs": [],
   "source": [
    "def mysort(l):\n",
    "    start = time.time()\n",
    "    l.sort()\n",
    "    t = time.time() - start\n",
    "    return l[0], len(l), t"
   ]
  },
  {
   "cell_type": "code",
   "execution_count": null,
   "metadata": {
    "collapsed": true
   },
   "outputs": [],
   "source": [
    "random_lists = random_list(10000)\n",
    "rst = [mysort(l) for l in random_lists]\n",
    "len(rst)\n",
    "rst"
   ]
  },
  {
   "cell_type": "code",
   "execution_count": null,
   "metadata": {
    "collapsed": true
   },
   "outputs": [],
   "source": [
    "x = list(zip(*rst))[1]\n",
    "y = list(zip(*rst))[2]\n",
    "\n",
    "plt.plot(x, y)"
   ]
  },
  {
   "cell_type": "markdown",
   "metadata": {},
   "source": [
    "### $O(n^2)$"
   ]
  },
  {
   "cell_type": "code",
   "execution_count": null,
   "metadata": {
    "collapsed": true
   },
   "outputs": [],
   "source": [
    "def has_duplicate(l):\n",
    "    start = time.time()\n",
    "    \n",
    "    rst = False\n",
    "    for i in range(len(l)):\n",
    "        for j in range(i + 1, len(l)):\n",
    "            if l[i] == l[j]:\n",
    "                rst = True\n",
    "        \n",
    "    t = time.time() - start\n",
    "    \n",
    "    return rst, len(l), t"
   ]
  },
  {
   "cell_type": "code",
   "execution_count": null,
   "metadata": {
    "collapsed": true
   },
   "outputs": [],
   "source": [
    "random_lists = random_list(100)\n",
    "rst = [has_duplicate(l) for l in random_lists]\n",
    "\n",
    "x = list(zip(*rst))[1]\n",
    "y = list(zip(*rst))[2]\n",
    "\n",
    "plt.plot(x, y)"
   ]
  },
  {
   "cell_type": "code",
   "execution_count": null,
   "metadata": {
    "collapsed": true
   },
   "outputs": [],
   "source": []
  }
 ],
 "metadata": {
  "kernelspec": {
   "display_name": "Python 3",
   "language": "python",
   "name": "python3"
  },
  "language_info": {
   "codemirror_mode": {
    "name": "ipython",
    "version": 3
   },
   "file_extension": ".py",
   "mimetype": "text/x-python",
   "name": "python",
   "nbconvert_exporter": "python",
   "pygments_lexer": "ipython3",
   "version": "3.6.3"
  }
 },
 "nbformat": 4,
 "nbformat_minor": 2
}
